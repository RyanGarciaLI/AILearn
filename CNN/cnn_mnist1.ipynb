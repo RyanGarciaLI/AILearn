{
  "nbformat": 4,
  "nbformat_minor": 0,
  "metadata": {
    "colab": {
      "provenance": [],
      "collapsed_sections": [],
      "include_colab_link": true
    },
    "kernelspec": {
      "name": "python3",
      "display_name": "Python 3"
    },
    "language_info": {
      "name": "python"
    },
    "accelerator": "GPU",
    "gpuClass": "standard"
  },
  "cells": [
    {
      "cell_type": "markdown",
      "metadata": {
        "id": "view-in-github",
        "colab_type": "text"
      },
      "source": [
        "<a href=\"https://colab.research.google.com/github/RyanGarciaLI/AILearn/blob/main/cnn_mnist1.ipynb\" target=\"_parent\"><img src=\"https://colab.research.google.com/assets/colab-badge.svg\" alt=\"Open In Colab\"/></a>"
      ]
    },
    {
      "cell_type": "markdown",
      "source": [
        "Train a simple convnet on the MNIST dataset. modified from https://github.com/keras-team/keras/blob/master/examples/mnist_cnn.py"
      ],
      "metadata": {
        "id": "05bvn5Skui7Y"
      }
    },
    {
      "cell_type": "code",
      "execution_count": 1,
      "metadata": {
        "id": "m33q4l59njjC"
      },
      "outputs": [],
      "source": [
        "import tensorflow.keras as keras\n",
        "from tensorflow.keras.datasets import mnist\n",
        "from tensorflow.keras.models import Sequential\n",
        "from tensorflow.keras.layers import Dense, Dropout, Flatten\n",
        "from tensorflow.keras.layers import Conv2D, MaxPooling2D\n",
        "from tensorflow.keras import backend as K"
      ]
    },
    {
      "cell_type": "code",
      "source": [
        "batch_size = 128\n",
        "num_classes = 10\n",
        "epochs = 12"
      ],
      "metadata": {
        "id": "3nKXIUTExO7r"
      },
      "execution_count": 2,
      "outputs": []
    },
    {
      "cell_type": "code",
      "source": [
        "# input image dimensions\n",
        "img_rows, img_cols = 28, 28\n",
        "\n",
        "# the data, split between train and test sets\n",
        "(x_train, y_train), (x_test, y_test) = mnist.load_data()"
      ],
      "metadata": {
        "id": "WtrEBCFoxTA1",
        "colab": {
          "base_uri": "https://localhost:8080/"
        },
        "outputId": "c38f2547-c0f0-4268-9afc-374525852823"
      },
      "execution_count": 3,
      "outputs": [
        {
          "output_type": "stream",
          "name": "stdout",
          "text": [
            "Downloading data from https://storage.googleapis.com/tensorflow/tf-keras-datasets/mnist.npz\n",
            "11490434/11490434 [==============================] - 1s 0us/step\n"
          ]
        }
      ]
    },
    {
      "cell_type": "code",
      "source": [
        "if K.image_data_format() == 'channels_first':\n",
        "    x_train = x_train.reshape(x_train.shape[0], 1, img_rows, img_cols)\n",
        "    x_test = x_test.reshape(x_test.shape[0], 1, img_rows, img_cols)\n",
        "    input_shape = (1, img_rows, img_cols)\n",
        "else:\n",
        "    x_train = x_train.reshape(x_train.shape[0], img_rows, img_cols, 1)\n",
        "    x_test = x_test.reshape(x_test.shape[0], img_rows, img_cols, 1)\n",
        "    input_shape = (img_rows, img_cols, 1)\n",
        "\n",
        "x_train = x_train.astype('float32')\n",
        "x_test = x_test.astype('float32')\n",
        "x_train /= 255\n",
        "x_test /= 255\n",
        "print('x_train shape:', x_train.shape)\n",
        "print(x_train.shape[0], 'train samples')\n",
        "print(x_test.shape[0], 'test samples')"
      ],
      "metadata": {
        "id": "lowqqin7xrtb",
        "colab": {
          "base_uri": "https://localhost:8080/"
        },
        "outputId": "380a5718-08f1-4ea7-d262-db5683324485"
      },
      "execution_count": 4,
      "outputs": [
        {
          "output_type": "stream",
          "name": "stdout",
          "text": [
            "x_train shape: (60000, 28, 28, 1)\n",
            "60000 train samples\n",
            "10000 test samples\n"
          ]
        }
      ]
    },
    {
      "cell_type": "code",
      "source": [
        "# convert class vectors to binary class matrices\n",
        "y_train = keras.utils.to_categorical(y_train, num_classes)\n",
        "y_test = keras.utils.to_categorical(y_test, num_classes)"
      ],
      "metadata": {
        "id": "Z3QvBozcxtSp"
      },
      "execution_count": 5,
      "outputs": []
    },
    {
      "cell_type": "code",
      "source": [
        "model = Sequential()\n",
        "model.add(Conv2D(32, kernel_size=(3, 3),\n",
        "                 activation='relu',\n",
        "                 input_shape=input_shape))\n",
        "model.add(Conv2D(64, (3, 3), activation='relu'))\n",
        "model.add(MaxPooling2D(pool_size=(2, 2)))\n",
        "model.add(Dropout(0.25))\n",
        "model.add(Flatten())\n",
        "model.add(Dense(128, activation='relu'))\n",
        "model.add(Dropout(0.5))\n",
        "model.add(Dense(num_classes, activation='softmax'))\n",
        "\n",
        "model.compile(loss=keras.losses.categorical_crossentropy,\n",
        "              optimizer=keras.optimizers.Adadelta(),\n",
        "              metrics=['accuracy'])"
      ],
      "metadata": {
        "id": "mkljnvuUz2w3"
      },
      "execution_count": 6,
      "outputs": []
    },
    {
      "cell_type": "code",
      "source": [
        "model.fit(x_train, y_train,\n",
        "          batch_size=batch_size,\n",
        "          epochs=epochs,\n",
        "          verbose=1,\n",
        "          validation_data=(x_test, y_test))"
      ],
      "metadata": {
        "id": "AL2aT1iv0LJk",
        "colab": {
          "base_uri": "https://localhost:8080/"
        },
        "outputId": "03629268-7940-4df1-aedf-3f4d21ab92d8"
      },
      "execution_count": 9,
      "outputs": [
        {
          "output_type": "stream",
          "name": "stdout",
          "text": [
            "Epoch 1/12\n",
            "469/469 [==============================] - 5s 10ms/step - loss: 1.0505 - accuracy: 0.6972 - val_loss: 0.7977 - val_accuracy: 0.8341\n",
            "Epoch 2/12\n",
            "469/469 [==============================] - 4s 9ms/step - loss: 0.9759 - accuracy: 0.7152 - val_loss: 0.7263 - val_accuracy: 0.8425\n",
            "Epoch 3/12\n",
            "469/469 [==============================] - 4s 9ms/step - loss: 0.9180 - accuracy: 0.7269 - val_loss: 0.6694 - val_accuracy: 0.8505\n",
            "Epoch 4/12\n",
            "469/469 [==============================] - 5s 10ms/step - loss: 0.8689 - accuracy: 0.7413 - val_loss: 0.6245 - val_accuracy: 0.8561\n",
            "Epoch 5/12\n",
            "469/469 [==============================] - 4s 9ms/step - loss: 0.8257 - accuracy: 0.7519 - val_loss: 0.5875 - val_accuracy: 0.8616\n",
            "Epoch 6/12\n",
            "469/469 [==============================] - 5s 10ms/step - loss: 0.7917 - accuracy: 0.7619 - val_loss: 0.5571 - val_accuracy: 0.8664\n",
            "Epoch 7/12\n",
            "469/469 [==============================] - 4s 9ms/step - loss: 0.7653 - accuracy: 0.7663 - val_loss: 0.5310 - val_accuracy: 0.8713\n",
            "Epoch 8/12\n",
            "469/469 [==============================] - 4s 9ms/step - loss: 0.7357 - accuracy: 0.7755 - val_loss: 0.5085 - val_accuracy: 0.8751\n",
            "Epoch 9/12\n",
            "469/469 [==============================] - 5s 10ms/step - loss: 0.7104 - accuracy: 0.7846 - val_loss: 0.4888 - val_accuracy: 0.8790\n",
            "Epoch 10/12\n",
            "469/469 [==============================] - 5s 10ms/step - loss: 0.6886 - accuracy: 0.7898 - val_loss: 0.4714 - val_accuracy: 0.8810\n",
            "Epoch 11/12\n",
            "469/469 [==============================] - 4s 9ms/step - loss: 0.6666 - accuracy: 0.7973 - val_loss: 0.4555 - val_accuracy: 0.8844\n",
            "Epoch 12/12\n",
            "469/469 [==============================] - 4s 9ms/step - loss: 0.6491 - accuracy: 0.8029 - val_loss: 0.4421 - val_accuracy: 0.8872\n"
          ]
        },
        {
          "output_type": "execute_result",
          "data": {
            "text/plain": [
              "<keras.callbacks.History at 0x7fd05f8bf050>"
            ]
          },
          "metadata": {},
          "execution_count": 9
        }
      ]
    },
    {
      "cell_type": "code",
      "source": [
        "score = model.evaluate(x_test, y_test, verbose=0)\n",
        "print('Test loss:', score[0])\n",
        "print('Test accuracy:', score[1])"
      ],
      "metadata": {
        "id": "qNdykOyM0QfA",
        "colab": {
          "base_uri": "https://localhost:8080/"
        },
        "outputId": "b04b89c3-e2d0-4307-b197-92d4ba98f6c4"
      },
      "execution_count": 8,
      "outputs": [
        {
          "output_type": "stream",
          "name": "stdout",
          "text": [
            "Test loss: 0.8903228640556335\n",
            "Test accuracy: 0.8234000205993652\n"
          ]
        }
      ]
    }
  ]
}