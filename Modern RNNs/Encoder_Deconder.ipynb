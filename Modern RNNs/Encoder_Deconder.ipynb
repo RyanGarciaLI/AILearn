{
  "nbformat": 4,
  "nbformat_minor": 0,
  "metadata": {
    "colab": {
      "provenance": [],
      "authorship_tag": "ABX9TyN94t3Orms5YWS7DkpIgGzV",
      "include_colab_link": true
    },
    "kernelspec": {
      "name": "python3",
      "display_name": "Python 3"
    },
    "language_info": {
      "name": "python"
    }
  },
  "cells": [
    {
      "cell_type": "markdown",
      "metadata": {
        "id": "view-in-github",
        "colab_type": "text"
      },
      "source": [
        "<a href=\"https://colab.research.google.com/github/RyanGarciaLI/AILearn/blob/main/Modern%20RNNs/Encoder_Deconder.ipynb\" target=\"_parent\"><img src=\"https://colab.research.google.com/assets/colab-badge.svg\" alt=\"Open In Colab\"/></a>"
      ]
    },
    {
      "cell_type": "code",
      "execution_count": null,
      "metadata": {
        "id": "wwprglbtH2iF"
      },
      "outputs": [],
      "source": [
        "import torch\n",
        "from torch import nn"
      ]
    },
    {
      "cell_type": "code",
      "source": [
        "class Encoder(nn.Module):\n",
        "  def __init__(self, **kwargs):\n",
        "    super(Encoder, self).__init__(**kwargs)\n",
        "\n",
        "  def forward(self, X, *args):\n",
        "    raise NotImplementedError"
      ],
      "metadata": {
        "id": "DO9lfcrLekp8"
      },
      "execution_count": null,
      "outputs": []
    },
    {
      "cell_type": "code",
      "source": [
        "class Deconder(nn.Module):\n",
        "  def __init__(self, **kwargs):\n",
        "    super(Decoder, self).__init__(**kwargs)\n",
        "\n",
        "  def init_state(self, encoder_outputs, *args):\n",
        "    raise NotImplementedError\n",
        "\n",
        "  def forward(self, X, state):\n",
        "    raise NotImplementedError"
      ],
      "metadata": {
        "id": "Xp-EytWlemr5"
      },
      "execution_count": null,
      "outputs": []
    },
    {
      "cell_type": "code",
      "source": [
        "class EncoderDecoder(nn.Module):\n",
        "  def __init__(self, encoder, decoder, **kwargs):\n",
        "    super(EncoderDeconder, self).__init__(**kwargs)\n",
        "    self.encoder = encoder\n",
        "    self.deconder = decoder\n",
        "\n",
        "  def forward(self, enc_X, dec_X, *args):\n",
        "    enc_outputs = self.encoder(enc_X, *args)\n",
        "    dec_outputs = self.decoder.init_state(enc_outputs, *args)\n",
        "    return self.decoder(dec_X, dec_state)"
      ],
      "metadata": {
        "id": "j1gufsDqe9lk"
      },
      "execution_count": null,
      "outputs": []
    }
  ]
}