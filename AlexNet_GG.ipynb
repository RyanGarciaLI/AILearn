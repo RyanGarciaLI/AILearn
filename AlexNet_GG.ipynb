{
  "nbformat": 4,
  "nbformat_minor": 0,
  "metadata": {
    "colab": {
      "provenance": [],
      "machine_shape": "hm",
      "authorship_tag": "ABX9TyO8nAT+PxAGbFxTJr2YoyBg",
      "include_colab_link": true
    },
    "kernelspec": {
      "name": "python3",
      "display_name": "Python 3"
    },
    "language_info": {
      "name": "python"
    },
    "accelerator": "GPU",
    "gpuClass": "premium"
  },
  "cells": [
    {
      "cell_type": "markdown",
      "metadata": {
        "id": "view-in-github",
        "colab_type": "text"
      },
      "source": [
        "<a href=\"https://colab.research.google.com/github/RyanGarciaLI/AILearn/blob/main/AlexNet_GG.ipynb\" target=\"_parent\"><img src=\"https://colab.research.google.com/assets/colab-badge.svg\" alt=\"Open In Colab\"/></a>"
      ]
    },
    {
      "cell_type": "code",
      "execution_count": 1,
      "metadata": {
        "id": "qP1XPWC5QPPR"
      },
      "outputs": [],
      "source": [
        "import tensorflow.keras as keras\n",
        "from tensorflow.keras.datasets import mnist\n",
        "from tensorflow.keras.models import Sequential\n",
        "from tensorflow.keras.layers import Dense, Dropout, Flatten, BatchNormalization, ReLU\n",
        "from tensorflow.keras.layers import Conv2D, MaxPooling2D\n",
        "from tensorflow.keras import backend as K"
      ]
    },
    {
      "cell_type": "code",
      "source": [
        "batch_size = 128\n",
        "num_classes = 10\n",
        "epochs = 45"
      ],
      "metadata": {
        "id": "AngWbalS-3kG"
      },
      "execution_count": 2,
      "outputs": []
    },
    {
      "cell_type": "code",
      "source": [
        "# input image dimensions\n",
        "img_rows, img_cols = 28, 28\n",
        "\n",
        "# the data, split between train and test sets\n",
        "(x_train, y_train), (x_test, y_test) = mnist.load_data()"
      ],
      "metadata": {
        "colab": {
          "base_uri": "https://localhost:8080/"
        },
        "id": "e5oCp_s6-4el",
        "outputId": "5b274d8f-915c-4573-f70d-61969c1dd6af"
      },
      "execution_count": 3,
      "outputs": [
        {
          "output_type": "stream",
          "name": "stdout",
          "text": [
            "Downloading data from https://storage.googleapis.com/tensorflow/tf-keras-datasets/mnist.npz\n",
            "11490434/11490434 [==============================] - 2s 0us/step\n"
          ]
        }
      ]
    },
    {
      "cell_type": "code",
      "source": [
        "if K.image_data_format() == 'channels_first':\n",
        "    x_train = x_train.reshape(x_train.shape[0], 1, img_rows, img_cols)\n",
        "    x_test = x_test.reshape(x_test.shape[0], 1, img_rows, img_cols)\n",
        "    input_shape = (1, img_rows, img_cols)\n",
        "else:\n",
        "    x_train = x_train.reshape(x_train.shape[0], img_rows, img_cols, 1)\n",
        "    x_test = x_test.reshape(x_test.shape[0], img_rows, img_cols, 1)\n",
        "    input_shape = (img_rows, img_cols, 1)\n",
        "\n",
        "x_train = x_train.astype('float32')\n",
        "x_test = x_test.astype('float32')\n",
        "x_train /= 255\n",
        "x_test /= 255\n",
        "print('x_train shape:', x_train.shape)\n",
        "print(x_train.shape[0], 'train samples')\n",
        "print(x_test.shape[0], 'test samples')"
      ],
      "metadata": {
        "colab": {
          "base_uri": "https://localhost:8080/"
        },
        "id": "SxkUFS-W-97v",
        "outputId": "293c78fc-ccd3-4014-ef11-17f0e323c302"
      },
      "execution_count": 4,
      "outputs": [
        {
          "output_type": "stream",
          "name": "stdout",
          "text": [
            "x_train shape: (60000, 28, 28, 1)\n",
            "60000 train samples\n",
            "10000 test samples\n"
          ]
        }
      ]
    },
    {
      "cell_type": "code",
      "source": [
        "# convert class vectors to binary class matrices\n",
        "y_train = keras.utils.to_categorical(y_train, num_classes)\n",
        "y_test = keras.utils.to_categorical(y_test, num_classes)"
      ],
      "metadata": {
        "id": "1ZjA-QTN_AxR"
      },
      "execution_count": 5,
      "outputs": []
    },
    {
      "cell_type": "code",
      "source": [
        "model = Sequential()\n",
        "model.add(Conv2D(32, kernel_size=3, activation='relu', input_shape=input_shape))\n",
        "model.add(Conv2D(64, kernel_size=3, activation='relu'))\n",
        "model.add(Conv2D(128, kernel_size=3, activation='relu'))\n",
        "model.add(MaxPooling2D(pool_size=3))\n",
        "model.add(Dropout(0.5))\n",
        "model.add(Flatten())\n",
        "model.add(Dense(250, activation='sigmoid'))\n",
        "model.add(Dense(num_classes, activation='softmax'))\n",
        "model.compile(loss=keras.losses.categorical_crossentropy,\n",
        "              optimizer=keras.optimizers.Adadelta(),\n",
        "              metrics=['accuracy'])\n",
        "\n",
        "\n",
        "\n",
        "\n",
        "\n",
        "\n"
      ],
      "metadata": {
        "id": "W8i4MlTgRMgn"
      },
      "execution_count": 6,
      "outputs": []
    },
    {
      "cell_type": "code",
      "source": [
        "model.fit(x_train, y_train,\n",
        "          batch_size=batch_size,\n",
        "          epochs=epochs,\n",
        "          verbose=1,\n",
        "          validation_data=(x_test, y_test))"
      ],
      "metadata": {
        "colab": {
          "base_uri": "https://localhost:8080/"
        },
        "id": "yQ2u9gTj_DvT",
        "outputId": "b67ff24a-31cb-4a42-df2c-d796da07a73a"
      },
      "execution_count": 7,
      "outputs": [
        {
          "output_type": "stream",
          "name": "stdout",
          "text": [
            "Epoch 1/45\n",
            "469/469 [==============================] - 12s 6ms/step - loss: 2.3605 - accuracy: 0.1123 - val_loss: 2.3470 - val_accuracy: 0.1311\n",
            "Epoch 2/45\n",
            "469/469 [==============================] - 2s 5ms/step - loss: 2.3389 - accuracy: 0.1247 - val_loss: 2.3270 - val_accuracy: 0.1628\n",
            "Epoch 3/45\n",
            "469/469 [==============================] - 2s 5ms/step - loss: 2.3201 - accuracy: 0.1378 - val_loss: 2.3092 - val_accuracy: 0.1796\n",
            "Epoch 4/45\n",
            "469/469 [==============================] - 2s 5ms/step - loss: 2.3027 - accuracy: 0.1524 - val_loss: 2.2924 - val_accuracy: 0.1900\n",
            "Epoch 5/45\n",
            "469/469 [==============================] - 2s 5ms/step - loss: 2.2854 - accuracy: 0.2114 - val_loss: 2.2744 - val_accuracy: 0.3405\n",
            "Epoch 6/45\n",
            "469/469 [==============================] - 2s 5ms/step - loss: 2.2661 - accuracy: 0.2985 - val_loss: 2.2524 - val_accuracy: 0.3829\n",
            "Epoch 7/45\n",
            "469/469 [==============================] - 2s 5ms/step - loss: 2.2406 - accuracy: 0.3637 - val_loss: 2.2220 - val_accuracy: 0.4680\n",
            "Epoch 8/45\n",
            "469/469 [==============================] - 2s 5ms/step - loss: 2.2045 - accuracy: 0.4377 - val_loss: 2.1757 - val_accuracy: 0.5713\n",
            "Epoch 9/45\n",
            "469/469 [==============================] - 2s 5ms/step - loss: 2.1468 - accuracy: 0.5055 - val_loss: 2.0997 - val_accuracy: 0.6148\n",
            "Epoch 10/45\n",
            "469/469 [==============================] - 2s 5ms/step - loss: 2.0519 - accuracy: 0.5465 - val_loss: 1.9712 - val_accuracy: 0.6347\n",
            "Epoch 11/45\n",
            "469/469 [==============================] - 2s 5ms/step - loss: 1.8983 - accuracy: 0.5998 - val_loss: 1.7646 - val_accuracy: 0.6871\n",
            "Epoch 12/45\n",
            "469/469 [==============================] - 2s 5ms/step - loss: 1.6837 - accuracy: 0.6476 - val_loss: 1.4948 - val_accuracy: 0.7387\n",
            "Epoch 13/45\n",
            "469/469 [==============================] - 2s 5ms/step - loss: 1.4554 - accuracy: 0.6852 - val_loss: 1.2374 - val_accuracy: 0.7636\n",
            "Epoch 14/45\n",
            "469/469 [==============================] - 2s 5ms/step - loss: 1.2686 - accuracy: 0.7077 - val_loss: 1.0416 - val_accuracy: 0.7828\n",
            "Epoch 15/45\n",
            "469/469 [==============================] - 2s 5ms/step - loss: 1.1340 - accuracy: 0.7264 - val_loss: 0.9048 - val_accuracy: 0.7957\n",
            "Epoch 16/45\n",
            "469/469 [==============================] - 2s 5ms/step - loss: 1.0377 - accuracy: 0.7405 - val_loss: 0.8091 - val_accuracy: 0.8071\n",
            "Epoch 17/45\n",
            "469/469 [==============================] - 2s 5ms/step - loss: 0.9654 - accuracy: 0.7546 - val_loss: 0.7398 - val_accuracy: 0.8165\n",
            "Epoch 18/45\n",
            "469/469 [==============================] - 2s 5ms/step - loss: 0.9102 - accuracy: 0.7641 - val_loss: 0.6877 - val_accuracy: 0.8231\n",
            "Epoch 19/45\n",
            "469/469 [==============================] - 2s 5ms/step - loss: 0.8682 - accuracy: 0.7717 - val_loss: 0.6470 - val_accuracy: 0.8312\n",
            "Epoch 20/45\n",
            "469/469 [==============================] - 2s 5ms/step - loss: 0.8306 - accuracy: 0.7783 - val_loss: 0.6141 - val_accuracy: 0.8361\n",
            "Epoch 21/45\n",
            "469/469 [==============================] - 2s 5ms/step - loss: 0.8017 - accuracy: 0.7872 - val_loss: 0.5876 - val_accuracy: 0.8397\n",
            "Epoch 22/45\n",
            "469/469 [==============================] - 2s 5ms/step - loss: 0.7728 - accuracy: 0.7941 - val_loss: 0.5643 - val_accuracy: 0.8440\n",
            "Epoch 23/45\n",
            "469/469 [==============================] - 2s 5ms/step - loss: 0.7498 - accuracy: 0.7975 - val_loss: 0.5444 - val_accuracy: 0.8480\n",
            "Epoch 24/45\n",
            "469/469 [==============================] - 2s 5ms/step - loss: 0.7276 - accuracy: 0.8042 - val_loss: 0.5278 - val_accuracy: 0.8519\n",
            "Epoch 25/45\n",
            "469/469 [==============================] - 2s 5ms/step - loss: 0.7105 - accuracy: 0.8069 - val_loss: 0.5125 - val_accuracy: 0.8560\n",
            "Epoch 26/45\n",
            "469/469 [==============================] - 2s 5ms/step - loss: 0.6926 - accuracy: 0.8120 - val_loss: 0.4988 - val_accuracy: 0.8586\n",
            "Epoch 27/45\n",
            "469/469 [==============================] - 2s 5ms/step - loss: 0.6781 - accuracy: 0.8158 - val_loss: 0.4869 - val_accuracy: 0.8628\n",
            "Epoch 28/45\n",
            "469/469 [==============================] - 2s 5ms/step - loss: 0.6621 - accuracy: 0.8198 - val_loss: 0.4753 - val_accuracy: 0.8663\n",
            "Epoch 29/45\n",
            "469/469 [==============================] - 2s 5ms/step - loss: 0.6510 - accuracy: 0.8215 - val_loss: 0.4660 - val_accuracy: 0.8679\n",
            "Epoch 30/45\n",
            "469/469 [==============================] - 2s 5ms/step - loss: 0.6388 - accuracy: 0.8257 - val_loss: 0.4563 - val_accuracy: 0.8695\n",
            "Epoch 31/45\n",
            "469/469 [==============================] - 2s 5ms/step - loss: 0.6269 - accuracy: 0.8297 - val_loss: 0.4483 - val_accuracy: 0.8721\n",
            "Epoch 32/45\n",
            "469/469 [==============================] - 2s 5ms/step - loss: 0.6158 - accuracy: 0.8326 - val_loss: 0.4397 - val_accuracy: 0.8742\n",
            "Epoch 33/45\n",
            "469/469 [==============================] - 2s 5ms/step - loss: 0.6071 - accuracy: 0.8343 - val_loss: 0.4327 - val_accuracy: 0.8774\n",
            "Epoch 34/45\n",
            "469/469 [==============================] - 2s 5ms/step - loss: 0.5974 - accuracy: 0.8348 - val_loss: 0.4255 - val_accuracy: 0.8778\n",
            "Epoch 35/45\n",
            "469/469 [==============================] - 2s 5ms/step - loss: 0.5890 - accuracy: 0.8359 - val_loss: 0.4192 - val_accuracy: 0.8795\n",
            "Epoch 36/45\n",
            "469/469 [==============================] - 2s 5ms/step - loss: 0.5783 - accuracy: 0.8410 - val_loss: 0.4133 - val_accuracy: 0.8818\n",
            "Epoch 37/45\n",
            "469/469 [==============================] - 2s 5ms/step - loss: 0.5716 - accuracy: 0.8428 - val_loss: 0.4075 - val_accuracy: 0.8829\n",
            "Epoch 38/45\n",
            "469/469 [==============================] - 2s 5ms/step - loss: 0.5636 - accuracy: 0.8451 - val_loss: 0.4019 - val_accuracy: 0.8854\n",
            "Epoch 39/45\n",
            "469/469 [==============================] - 2s 5ms/step - loss: 0.5558 - accuracy: 0.8471 - val_loss: 0.3965 - val_accuracy: 0.8866\n",
            "Epoch 40/45\n",
            "469/469 [==============================] - 2s 5ms/step - loss: 0.5489 - accuracy: 0.8499 - val_loss: 0.3921 - val_accuracy: 0.8877\n",
            "Epoch 41/45\n",
            "469/469 [==============================] - 2s 5ms/step - loss: 0.5422 - accuracy: 0.8494 - val_loss: 0.3875 - val_accuracy: 0.8893\n",
            "Epoch 42/45\n",
            "469/469 [==============================] - 2s 5ms/step - loss: 0.5347 - accuracy: 0.8545 - val_loss: 0.3830 - val_accuracy: 0.8902\n",
            "Epoch 43/45\n",
            "469/469 [==============================] - 2s 5ms/step - loss: 0.5279 - accuracy: 0.8532 - val_loss: 0.3788 - val_accuracy: 0.8924\n",
            "Epoch 44/45\n",
            "469/469 [==============================] - 2s 5ms/step - loss: 0.5237 - accuracy: 0.8570 - val_loss: 0.3743 - val_accuracy: 0.8937\n",
            "Epoch 45/45\n",
            "469/469 [==============================] - 2s 5ms/step - loss: 0.5165 - accuracy: 0.8576 - val_loss: 0.3701 - val_accuracy: 0.8950\n"
          ]
        },
        {
          "output_type": "execute_result",
          "data": {
            "text/plain": [
              "<keras.callbacks.History at 0x7f7698309e50>"
            ]
          },
          "metadata": {},
          "execution_count": 7
        }
      ]
    },
    {
      "cell_type": "code",
      "source": [
        "score = model.evaluate(x_test, y_test, verbose=0)\n",
        "print('Test loss:', score[0])\n",
        "print('Test accuracy:', score[1])\n",
        "score"
      ],
      "metadata": {
        "id": "E5d1KFd__FuN",
        "colab": {
          "base_uri": "https://localhost:8080/"
        },
        "outputId": "8a1fbff1-c113-4f8e-9221-a498c428e1ca"
      },
      "execution_count": 8,
      "outputs": [
        {
          "output_type": "stream",
          "name": "stdout",
          "text": [
            "Test loss: 0.3701395094394684\n",
            "Test accuracy: 0.8949999809265137\n"
          ]
        },
        {
          "output_type": "execute_result",
          "data": {
            "text/plain": [
              "[0.3701395094394684, 0.8949999809265137]"
            ]
          },
          "metadata": {},
          "execution_count": 8
        }
      ]
    },
    {
      "cell_type": "code",
      "source": [],
      "metadata": {
        "id": "5VBx5AKR_Fj0"
      },
      "execution_count": 8,
      "outputs": []
    }
  ]
}